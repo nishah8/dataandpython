{
  "nbformat": 4,
  "nbformat_minor": 0,
  "metadata": {
    "colab": {
      "provenance": [],
      "include_colab_link": true
    },
    "kernelspec": {
      "name": "python3",
      "display_name": "Python 3"
    },
    "language_info": {
      "name": "python"
    }
  },
  "cells": [
    {
      "cell_type": "markdown",
      "metadata": {
        "id": "view-in-github",
        "colab_type": "text"
      },
      "source": [
        "<a href=\"https://colab.research.google.com/github/nishah8/dataandpython/blob/main/Copy_of_Describing_data.ipynb\" target=\"_parent\"><img src=\"https://colab.research.google.com/assets/colab-badge.svg\" alt=\"Open In Colab\"/></a>"
      ]
    },
    {
      "cell_type": "markdown",
      "metadata": {
        "id": "mM0KF3nvGREF"
      },
      "source": [
        "# Describing data with summary statistics\n",
        "---\n",
        "\n",
        "This worksheet is tied to the Pandas Getting Started Tutorials, picking out particular tutorials to link them into a theme here.\n",
        "\n",
        "We will focus on describing data.  This is the least risky in terms of bias and inaccurate conclusions as it should focus just on what data is presented to us.\n",
        "\n",
        "Each exercise will ask you to work through on tutorial on the Getting Started page, to try the code from the tutorial here and to try a second, similar action."
      ]
    },
    {
      "cell_type": "markdown",
      "metadata": {
        "id": "kTyelqrywYQl"
      },
      "source": [
        "---\n",
        "\n",
        "The practice data from the tutorials comes from a dataset on Titanic passengers.\n"
      ]
    },
    {
      "cell_type": "markdown",
      "metadata": {
        "id": "Cb3JAeCCOeN9"
      },
      "source": [
        "### Exercise 1 - open the Titanic dataset\n",
        "---\n",
        "\n",
        "The Titanic dataset is stored at this URL:\n",
        "https://raw.githubusercontent.com/pandas-dev/pandas/master/doc/data/titanic.csv\n",
        "\n",
        "Read the dataset into a pandas dataframe that you will call **titanic**.\n",
        "\n",
        "**Test output**:  \n",
        "The shape of the dataframe will be (891, 12)"
      ]
    },
    {
      "cell_type": "code",
      "metadata": {
        "id": "bEhmZCf7GPzn",
        "outputId": "eaa669b6-e1bc-4135-a541-9795bed12f2d",
        "colab": {
          "base_uri": "https://localhost:8080/"
        }
      },
      "source": [
        "import pandas as pd\n",
        "url =  \"https://raw.githubusercontent.com/pandas-dev/pandas/master/doc/data/titanic.csv\"\n",
        "titanic = pd.read_csv(url)\n",
        "titanic.shape\n"
      ],
      "execution_count": null,
      "outputs": [
        {
          "output_type": "execute_result",
          "data": {
            "text/plain": [
              "(891, 12)"
            ]
          },
          "metadata": {},
          "execution_count": 10
        }
      ]
    },
    {
      "cell_type": "markdown",
      "metadata": {
        "id": "bNNZCv5DQWAU"
      },
      "source": [
        "### Exercise 2 - get summary information about the dataframe\n",
        "---\n",
        "\n",
        "Read through the tutorials:  \n",
        "[What kind of data does pandas handle?](https://pandas.pydata.org/docs/getting_started/intro_tutorials/01_table_oriented.html#)  \n",
        "[How do I read and write tabular data?](https://pandas.pydata.org/docs/getting_started/intro_tutorials/02_read_write.html)\n",
        "\n",
        "Use panda functions to display the following:\n",
        "1.  A technical summary of the data (info())\n",
        "2.  A description of the numerical data (describe())\n",
        "3.  Display the Series 'Age'\n",
        "\n",
        "**Test output**:   \n",
        "1.  The info should show that there are only 204 values in the Cabin series, out of 891 records.  \n",
        "2.  The description should show 7 columns and a mean age of 29.699118\n",
        "3.  The Age series should have values of type float64 and Length 891"
      ]
    },
    {
      "cell_type": "code",
      "metadata": {
        "id": "puw-h7O0RJlk",
        "outputId": "fee484d2-8eaf-407f-a304-bfe4ed0067f5",
        "colab": {
          "base_uri": "https://localhost:8080/"
        }
      },
      "source": [
        "import pandas as pd\n",
        "url =  \"https://raw.githubusercontent.com/pandas-dev/pandas/master/doc/data/titanic.csv\"\n",
        "titanic = pd.read_csv(url)\n",
        "titanic.info()\n",
        "titanic.describe()\n",
        "age = titanic [\"Age\"]\n",
        "age"
      ],
      "execution_count": null,
      "outputs": [
        {
          "output_type": "stream",
          "name": "stdout",
          "text": [
            "<class 'pandas.core.frame.DataFrame'>\n",
            "RangeIndex: 891 entries, 0 to 890\n",
            "Data columns (total 12 columns):\n",
            " #   Column       Non-Null Count  Dtype  \n",
            "---  ------       --------------  -----  \n",
            " 0   PassengerId  891 non-null    int64  \n",
            " 1   Survived     891 non-null    int64  \n",
            " 2   Pclass       891 non-null    int64  \n",
            " 3   Name         891 non-null    object \n",
            " 4   Sex          891 non-null    object \n",
            " 5   Age          714 non-null    float64\n",
            " 6   SibSp        891 non-null    int64  \n",
            " 7   Parch        891 non-null    int64  \n",
            " 8   Ticket       891 non-null    object \n",
            " 9   Fare         891 non-null    float64\n",
            " 10  Cabin        204 non-null    object \n",
            " 11  Embarked     889 non-null    object \n",
            "dtypes: float64(2), int64(5), object(5)\n",
            "memory usage: 83.7+ KB\n"
          ]
        },
        {
          "output_type": "execute_result",
          "data": {
            "text/plain": [
              "0      22.0\n",
              "1      38.0\n",
              "2      26.0\n",
              "3      35.0\n",
              "4      35.0\n",
              "       ... \n",
              "886    27.0\n",
              "887    19.0\n",
              "888     NaN\n",
              "889    26.0\n",
              "890    32.0\n",
              "Name: Age, Length: 891, dtype: float64"
            ]
          },
          "metadata": {},
          "execution_count": 38
        }
      ]
    },
    {
      "cell_type": "markdown",
      "metadata": {
        "id": "g3EzF12i0m1a"
      },
      "source": [
        "### Exercise 3 - aggregating statistics\n",
        "---\n",
        "\n",
        "Read through the tutorial:  \n",
        "[How to calculate summary statistics?](https://pandas.pydata.org/docs/getting_started/intro_tutorials/06_calculate_statistics.html#)  \n",
        "\n",
        "Use panda functions to display the following summary statistics from the titanic dataset:  \n",
        "\n",
        "1.  The average (mean) age of passengers  \n",
        "2.  The median age and fare  \n",
        "3.  The mean fare\n",
        "4.  The modal fare and gender\n",
        "\n",
        "**Test output**:   \n",
        "29.699118, Age 28.0000 Fare 14.4542, 32.2042079685746, Fare 8.05 Sex male\n"
      ]
    },
    {
      "cell_type": "code",
      "metadata": {
        "id": "D7jFHvO42UL5",
        "outputId": "a4297830-2fe7-4877-ec29-32ff3f8f6fe0",
        "colab": {
          "base_uri": "https://localhost:8080/"
        }
      },
      "source": [
        "import pandas as pd\n",
        "url =  \"https://raw.githubusercontent.com/pandas-dev/pandas/master/doc/data/titanic.csv\"\n",
        "titanic = pd.read_csv(url)\n",
        "age = titanic['Age']\n",
        "print ('Mean age is:',age.mean())\n",
        "\n",
        "age_fare = titanic [['Age','Fare']]\n",
        "y1 = age_fare.median().reset_index()\n",
        "y=y1.to_string(header=None, index=None)\n",
        "print ('median age & fare are as follows:\\n',y)\n",
        "\n",
        "titanic.head(1)\n",
        "\n",
        "fare_gender = titanic [['Fare','Sex']]\n",
        "x = fare_gender.mode()\n",
        "print ('modal info:\\n', x)\n"
      ],
      "execution_count": null,
      "outputs": [
        {
          "output_type": "stream",
          "name": "stdout",
          "text": [
            "Mean age is: 29.69911764705882\n",
            "median age & fare are as follows:\n",
            "   Age 28.0000\n",
            " Fare 14.4542\n",
            "modal info:\n",
            "    Fare   Sex\n",
            "0  8.05  male\n"
          ]
        }
      ]
    },
    {
      "cell_type": "markdown",
      "metadata": {
        "id": "moYrHf2s2UrP"
      },
      "source": [
        "### Exercise 4 - displaying other statistics\n",
        "---\n",
        "\n",
        "Take a look at the list of methods available for giving summary statistics [here](https://pandas.pydata.org/docs/user_guide/basics.html#basics-stats)\n",
        "\n",
        "Use panda functions, and your existing knowledge, to display the following summary statistics from the titanic dataset:\n",
        "\n",
        "1.  The total number of passengers on the titanic\n",
        "2.  The age of the youngest passenger\n",
        "3.  The most expensive ticket price\n",
        "4.  The range of ticket prices\n",
        "5.  The number of passenges with cabins\n",
        "6.  The code for the port where the highest number of passengers embarked\n",
        "7.  The most populous gender\n",
        "8.  The standard deviation for age and fare\n",
        "\n",
        "**Tests**:  \n",
        "891, 0.42, 512.3292, 512.3292, 204, S, male, Age 14.526497 Fare 49.693429"
      ]
    },
    {
      "cell_type": "code",
      "metadata": {
        "id": "AqDs2Xfw3upQ",
        "outputId": "14875fc7-b3bd-4bfc-dbbd-4109eb21fa76",
        "colab": {
          "base_uri": "https://localhost:8080/"
        }
      },
      "source": [
        "import pandas as pd\n",
        "url =  \"https://raw.githubusercontent.com/pandas-dev/pandas/master/doc/data/titanic.csv\"\n",
        "titanic = pd.read_csv(url)\n",
        "\n",
        "print ('total number of passengers in Titanic:',len(titanic['PassengerId']))\n",
        "\n",
        "print ('youngest passenger was aged:',titanic['Age'].min())\n",
        "\n",
        "print ('most expensive ticket cost:',titanic['Fare'].max())\n",
        "\n",
        "ran = titanic['Fare'].max()-titanic['Fare'].min()\n",
        "print ('range of ticket prices is',ran)\n",
        "\n",
        "wc = titanic['Cabin'].dropna()\n",
        "withcab = len(wc)\n",
        "print ('number of people with cabins:',withcab)\n",
        "\n",
        "hgt =titanic['Embarked'].mode().values[0]\n",
        "print ('highest number of people embarked from:',hgt )\n",
        "\n",
        "print('most populous gender:', titanic['Sex'].mode().values[0])\n",
        "\n",
        "sd = titanic [['Age','Fare']]\n",
        "y1 = sd.std().reset_index()\n",
        "y=y1.to_string(header=None, index=None)\n",
        "print('Standard diviation in Age & Fare:\\n',y)\n",
        "\n"
      ],
      "execution_count": null,
      "outputs": [
        {
          "output_type": "stream",
          "name": "stdout",
          "text": [
            "total number of passengers in Titanic: 891\n",
            "youngest passenger was aged: 0.42\n",
            "most expensive ticket cost: 512.3292\n",
            "range of ticket prices is 512.3292\n",
            "number of people with cabins: 204\n",
            "highest number of people embarked from: S\n",
            "most populous gender: male\n",
            "Standard diviation in Age & Fare:\n",
            "   Age 14.526497\n",
            " Fare 49.693429\n"
          ]
        }
      ]
    },
    {
      "cell_type": "markdown",
      "metadata": {
        "id": "Q6s13LaY4_QC"
      },
      "source": [
        "### Exercise 5 - aggregating statistics grouped by category\n",
        "---\n",
        "\n",
        "Refer again to the tutorial  \n",
        "[How to calculate summary statistics?](https://pandas.pydata.org/docs/getting_started/intro_tutorials/06_calculate_statistics.html#)   \n",
        "looking particularly at the section on Aggregating statistics grouped by category.\n",
        "\n",
        "1.  What is the mean age for male versus female Titanic passengers?\n",
        "2.  What is the mean ticket fare price for each of the sex and cabin class combinations?\n",
        "3.  What is the mean ticket fare price for passengers who embarked at each port?\n",
        "4.  Which passenger class had the highest number of survivors (for now, just show the statistics - it may not be meaningful yet)?\n",
        "\n",
        "**Test output**:  \n",
        "1.  female 27.915709 male 30.726645\n",
        "2.  \n",
        "```\n",
        "female  1         106.125798\n",
        "            2          21.970121\n",
        "            3          16.118810\n",
        "male    1          67.226127\n",
        "            2          19.741782\n",
        "            3          12.661633\n",
        "```\n",
        "3.  \n",
        "```\n",
        "C    59.954144\n",
        "Q    13.276030\n",
        "S    27.079812\n",
        "```\n",
        "4.\n",
        "\n",
        "```\n",
        "Survived  Pclass\n",
        "\n",
        "0         1          80\n",
        "          2          97\n",
        "          3         372\n",
        "1         1         136\n",
        "          2          87\n",
        "          3         119\n",
        "```\n",
        "\n",
        "\n",
        "\n",
        "\n"
      ]
    },
    {
      "cell_type": "code",
      "metadata": {
        "id": "hH4-UZxH_omw",
        "outputId": "ff0a60b8-12f1-45d6-afc2-781df542b0d7",
        "colab": {
          "base_uri": "https://localhost:8080/"
        }
      },
      "source": [
        "import pandas as pd\n",
        "url =  \"https://raw.githubusercontent.com/pandas-dev/pandas/master/doc/data/titanic.csv\"\n",
        "titanic = pd.read_csv(url)\n",
        "\n",
        "A = titanic.groupby(\"Sex\")[\"Age\"].mean().reset_index()\n",
        "A1=A.to_string(header=None, index=None)\n",
        "print ('mean ages for female & males:\\n', A1)\n",
        "print()\n",
        "\n",
        "B = titanic.groupby([\"Sex\", \"Pclass\"])[\"Fare\"].mean().reset_index()\n",
        "B1=B.to_string(header=None, index=None)\n",
        "print ('mean ticket fare price for each of the sex and cabin class:\\n',B1)\n",
        "print()\n",
        "\n",
        "C = titanic.groupby(\"Embarked\")[\"Fare\"].mean().reset_index()\n",
        "C1=C.to_string(header=None, index=None)\n",
        "print ('mean ticket fare price for passengers who embarked at each port:\\n',C1)\n",
        "print()\n",
        "\n",
        "D = titanic.groupby(['Survived','Pclass'])['Survived'].count()\n",
        "print('passenger class had the highest number of survivors:\\n',D)\n",
        "print()\n"
      ],
      "execution_count": null,
      "outputs": [
        {
          "output_type": "stream",
          "name": "stdout",
          "text": [
            "mean ages for female & males:\n",
            "  female 27.915709\n",
            "   male 30.726645\n",
            "\n",
            "mean ticket fare price for each of the sex and cabin class:\n",
            "  female  1 106.125798\n",
            " female  2  21.970121\n",
            " female  3  16.118810\n",
            "   male  1  67.226127\n",
            "   male  2  19.741782\n",
            "   male  3  12.661633\n",
            "\n",
            "mean ticket fare price for passengers who embarked at each port:\n",
            "  C 59.954144\n",
            " Q 13.276030\n",
            " S 27.079812\n",
            "\n",
            "passenger class had the highest number of survivors:\n",
            " Survived  Pclass\n",
            "0         1          80\n",
            "          2          97\n",
            "          3         372\n",
            "1         1         136\n",
            "          2          87\n",
            "          3         119\n",
            "Name: Survived, dtype: int64\n",
            "\n"
          ]
        }
      ]
    },
    {
      "cell_type": "markdown",
      "metadata": {
        "id": "uG42G7oPCaVT"
      },
      "source": [
        "### Exercise 6 - an aggregation of different statistics\n",
        "---\n",
        "\n",
        "Use the function titanic.agg() as shown in the tutorial  \n",
        "[How to calculate summary statistics?](https://pandas.pydata.org/docs/getting_started/intro_tutorials/06_calculate_statistics.html#)  \n",
        "\n",
        "1.  Display\n",
        "\n",
        "```\n",
        "     {\n",
        "         \"Age\": [\"min\", \"max\", \"median\", \"skew\"],\n",
        "         \"Fare\": [\"min\", \"max\", \"median\", \"mean\"]\n",
        "     }\n",
        "```\n",
        "2.  Display:  \n",
        "min, max and mean for Age  \n",
        "min, max and standard deviation for Fare  \n",
        "count for Cabin\n",
        "\n",
        "**Test output**:   \n",
        "1.\n",
        "```\n",
        "                  Age\t      Fare  \n",
        "max\t   80.000000\t512.329200  \n",
        "mean\t  NaN\t      32.204208  \n",
        "median\t28.000000\t14.454200  \n",
        "min\t   0.420000\t 0.000000  \n",
        "skew\t  0.389108\t NaN\n",
        "```\n",
        "\n",
        "2.   \n",
        "```\n",
        "\t        Age\t    Fare\t   Cabin\n",
        "count  NaN\t    NaN\t    204.0\n",
        "max\t80.000000  512.329200 NaN\n",
        "mean   29.699118  NaN        NaN\n",
        "min\t0.420000   0.000000   NaN\n",
        "std\tNaN        49.693429  NaN\n",
        "```\n",
        "\n",
        "\n"
      ]
    },
    {
      "cell_type": "code",
      "metadata": {
        "id": "2hqgzlZgZnzx",
        "outputId": "015fc90b-01ae-4d82-a6eb-bfbf1641b859",
        "colab": {
          "base_uri": "https://localhost:8080/"
        }
      },
      "source": [
        "import pandas as pd\n",
        "url =  \"https://raw.githubusercontent.com/pandas-dev/pandas/master/doc/data/titanic.csv\"\n",
        "titanic = pd.read_csv(url)\n",
        "\n",
        "print(titanic.agg(\n",
        "    {\n",
        "        \"Age\": [\"min\", \"max\", \"median\", \"skew\"],\n",
        "        \"Fare\": [\"min\", \"max\", \"median\", \"mean\"],\n",
        "    }\n",
        "))\n",
        "print()\n",
        "\n",
        "print(titanic.agg(\n",
        "    {\n",
        "      'Age':['min','max','mean'],\n",
        "      'Fare':['min','max','std'],\n",
        "      'Cabin':['count'],\n",
        "    }\n",
        "))\n",
        "print()"
      ],
      "execution_count": null,
      "outputs": [
        {
          "output_type": "stream",
          "name": "stdout",
          "text": [
            "              Age        Fare\n",
            "min      0.420000    0.000000\n",
            "max     80.000000  512.329200\n",
            "median  28.000000   14.454200\n",
            "skew     0.389108         NaN\n",
            "mean          NaN   32.204208\n",
            "\n",
            "             Age        Fare  Cabin\n",
            "min     0.420000    0.000000    NaN\n",
            "max    80.000000  512.329200    NaN\n",
            "mean   29.699118         NaN    NaN\n",
            "std          NaN   49.693429    NaN\n",
            "count        NaN         NaN  204.0\n",
            "\n"
          ]
        }
      ]
    },
    {
      "cell_type": "markdown",
      "metadata": {
        "id": "cucQCpY1SwUj"
      },
      "source": [
        "### Exercise 7 - count by category\n",
        "---\n",
        "\n",
        "Read the section Count number of records by category in the tutorial  \n",
        "[How to calculate summary statistics?](https://pandas.pydata.org/docs/getting_started/intro_tutorials/06_calculate_statistics.html#)\n",
        "\n",
        "1. Display the number of passengers of each gender who had a ticket\n",
        "2. Display the number of passengers who embarked at each port and had a ticket\n",
        "3. Calculate the percentage of PassengerIds who survived the sinking of the Titanic (*Hint:  try getting the PassengerIds with a count for survived or not.  Store this value in a new variable, which will contain a list/array.  The second item in this list will be the number who survived.  You can use this number and the count of PassengerIds to calculate the percentage*)\n",
        "\n",
        "**Test output**:  \n",
        "1.  female 314, male 577\n",
        "2.  C 168, Q 77, S 644\n",
        "3.  38.38383838383838\n",
        "\n"
      ]
    },
    {
      "cell_type": "code",
      "metadata": {
        "id": "NkZHxv_nTj-o",
        "outputId": "4b00ee4c-a272-4c38-c598-a71b9ae3106c",
        "colab": {
          "base_uri": "https://localhost:8080/"
        }
      },
      "source": [
        "import pandas as pd\n",
        "url =  \"https://raw.githubusercontent.com/pandas-dev/pandas/master/doc/data/titanic.csv\"\n",
        "titanic = pd.read_csv(url)\n",
        "\n",
        "A = titanic.groupby('Sex')['Embarked'].count().reset_index()\n",
        "A1=A.to_string(header=None, index=None)\n",
        "print('number of passengers of each gender who had a ticket:\\n',A1)\n",
        "print()\n",
        "\n",
        "B = titanic.groupby('Embarked')['Ticket'].count().reset_index()\n",
        "B1 =B.to_string(header=None, index=None)\n",
        "print('number of passengers who embarked at each port and had a ticket:\\n',B1)\n",
        "print()\n",
        "\n",
        "C = titanic['Survived'].value_counts()[1]\n",
        "per100 = (C/len(titanic['Survived']))*100\n",
        "print('The percentage of PassengerIds who survived the sinking of the Titanic:',per100)"
      ],
      "execution_count": null,
      "outputs": [
        {
          "output_type": "stream",
          "name": "stdout",
          "text": [
            "number of passengers of each gender who had a ticket:\n",
            "  female  312\n",
            "   male  577\n",
            "\n",
            "number of passengers who embarked at each port and had a ticket:\n",
            "  C  168\n",
            " Q   77\n",
            " S  644\n",
            "\n",
            "The percentage of PassengerIds who survived the sinking of the Titanic: 38.38383838383838\n"
          ]
        }
      ]
    },
    {
      "cell_type": "markdown",
      "metadata": {
        "id": "Y2aTzdTlLjlI"
      },
      "source": [
        "### Exercise 8 - summary happiness statistics\n",
        "---\n",
        "\n",
        "Open the data set here: https://github.com/futureCodersSE/working-with-data/blob/main/Happiness-Data/2019.xlsx?raw=true\n",
        "\n",
        "It contains data on people's perception of happiness levels in a number of countries across the world.\n",
        "\n",
        "1.  Display the number of records in the set  \n",
        "2.  Display the description of the numerical data  \n",
        "3.  Display the highest GDP and life expectancy  \n",
        "4.  Display the mean, max and min for Freedom,  mean, max, min and skew for Generosity and mean, min, max and std for GDP  \n",
        "\n",
        "**Test output**:  \n",
        "1.  156\n",
        "2.  Table showing count, mean, std, min, 25%, 50%, 75%, max for 8 columns\n",
        "3.  GDP 0.905147, life expectancy 0.725244  \n",
        "4.  \n",
        "\n",
        "\n",
        "```\n",
        "\t   Freedom to make life choices\tGenerosity\tGDP per capita\n",
        "max\t 0.631000\t                   0.566000\t  1.684000\n",
        "mean\t0.392571\t                   0.184846\t  0.905147\n",
        "min\t 0.000000\t                   0.000000  \t0.000000\n",
        "skew\tNaN\t                        0.745942\t  NaN\n",
        "std\t NaN\t                        NaN\t       0.398389\n",
        "```\n",
        "\n",
        "\n"
      ]
    },
    {
      "cell_type": "code",
      "metadata": {
        "id": "ISwIDuuAL6qo",
        "outputId": "f7614f56-90b4-4f72-9381-fba0b9f0cf20",
        "colab": {
          "base_uri": "https://localhost:8080/"
        }
      },
      "source": [
        "import pandas as pd\n",
        "df = pd.read_excel( 'https://github.com/futureCodersSE/working-with-data/blob/main/Happiness-Data/2019.xlsx?raw=true')\n",
        "print('the number of records in the set:',len(df))\n",
        "print()\n",
        "\n",
        "print(df.describe())\n",
        "print()\n",
        "\n",
        "print('Highest GDP:',df['GDP per capita'].max(),' Highest Life Expectancy:',df['Healthy life expectancy'].max())\n",
        "print()\n",
        "\n",
        "print(df.agg(\n",
        "    {\n",
        "        \"Freedom to make life choices\": [\"mean\",\"max\", \"min\",],\n",
        "        \"Generosity\": [\"mean\",\"max\", \"min\", \"skew\"],\n",
        "        \"GDP per capita\":[\"mean\",\"min\",\"max\",\"std\"],\n",
        "    }\n",
        "))\n",
        "print()\n"
      ],
      "execution_count": null,
      "outputs": [
        {
          "output_type": "stream",
          "name": "stdout",
          "text": [
            "the number of records in the set: 156\n",
            "\n",
            "       Overall rank       Score  GDP per capita  Social support  \\\n",
            "count    156.000000  156.000000      156.000000      156.000000   \n",
            "mean      78.500000    5.407096        0.905147        1.208814   \n",
            "std       45.177428    1.113120        0.398389        0.299191   \n",
            "min        1.000000    2.853000        0.000000        0.000000   \n",
            "25%       39.750000    4.544500        0.602750        1.055750   \n",
            "50%       78.500000    5.379500        0.960000        1.271500   \n",
            "75%      117.250000    6.184500        1.232500        1.452500   \n",
            "max      156.000000    7.769000        1.684000        1.624000   \n",
            "\n",
            "       Healthy life expectancy  Freedom to make life choices  Generosity  \\\n",
            "count               156.000000                    156.000000  156.000000   \n",
            "mean                  0.725244                      0.392571    0.184846   \n",
            "std                   0.242124                      0.143289    0.095254   \n",
            "min                   0.000000                      0.000000    0.000000   \n",
            "25%                   0.547750                      0.308000    0.108750   \n",
            "50%                   0.789000                      0.417000    0.177500   \n",
            "75%                   0.881750                      0.507250    0.248250   \n",
            "max                   1.141000                      0.631000    0.566000   \n",
            "\n",
            "       Perceptions of corruption  \n",
            "count                 156.000000  \n",
            "mean                    0.110603  \n",
            "std                     0.094538  \n",
            "min                     0.000000  \n",
            "25%                     0.047000  \n",
            "50%                     0.085500  \n",
            "75%                     0.141250  \n",
            "max                     0.453000  \n",
            "\n",
            "Highest GDP: 1.684  Highest Life Expectancy: 1.141\n",
            "\n",
            "      Freedom to make life choices  Generosity  GDP per capita\n",
            "mean                      0.392571    0.184846        0.905147\n",
            "max                       0.631000    0.566000        1.684000\n",
            "min                       0.000000    0.000000        0.000000\n",
            "skew                           NaN    0.745942             NaN\n",
            "std                            NaN         NaN        0.398389\n",
            "\n"
          ]
        }
      ]
    },
    {
      "cell_type": "markdown",
      "metadata": {
        "id": "X3vlyA6zRdXs"
      },
      "source": [
        "### Exercise 9 - migration data\n",
        "---\n",
        "\n",
        "Open the dataset at this url: https://github.com/futureCodersSE/working-with-data/blob/main/Data%20sets/public_use-talent-migration.xlsx?raw=true  Open the sheet named *Country Migration*\n",
        "\n",
        "1.  Describe the dataset  \n",
        "2.  Show summary information\n",
        "3.  Display the mean net per 10K migration in each of the years 2015 to 2019\n",
        "4.  Display the mean, max and min migration for the year 2019 for each of the regions (*base_country_wb_region*)\n",
        "5.  Display the median net migration for the years 2015 and 2019 for the base countries by income level\n",
        "6.  Display the number of target countries in each income level\n",
        "7.  Display the mean net migration for all five years, for each income level\n",
        "\n",
        "**Test output**:  \n",
        "1  count, mean, std, min, 25%, 50%, 75%, max for 9 columns\n",
        "\n",
        "2  shows 16 columns with non-null count of 4148 in each column\n",
        "\n",
        "3  \n",
        "```\n",
        "net_per_10K_2015    0.461757\n",
        "net_per_10K_2016    0.150248\n",
        "net_per_10K_2017   -0.080272\n",
        "net_per_10K_2018   -0.040591\n",
        "net_per_10K_2019   -0.022743\n",
        "dtype: float64\n",
        "```\n",
        "\n",
        "4  \n",
        "```\n",
        "\tnet_per_10K_2019\n",
        "mean\tmax\tmin\n",
        "base_country_wb_region\n",
        "East Asia & Pacific\t0.198827\t21.57\t-9.88\n",
        "Europe & Central Asia\t0.208974\t87.71\t-21.34\n",
        "Latin America & Caribbean\t-0.904602\t21.15\t-31.75\n",
        "Middle East & North Africa\t-0.107655\t55.60\t-50.33\n",
        "North America\t0.239246\t23.20\t-0.29\n",
        "South Asia\t-0.514577\t13.72\t-24.89\n",
        "Sub-Saharan Africa\t-0.279729\t37.11\t-21.54\n",
        "```\n",
        "\n",
        "5  \n",
        "```\n",
        "\tnet_per_10K_2015\tnet_per_10K_2019\n",
        "base_country_wb_income\n",
        "High Income\t0.02\t0.04\n",
        "Low Income\t0.42\t-0.05\n",
        "Lower Middle Income\t-0.02\t-0.07\n",
        "Upper Middle Income\t-0.03\t-0.08\n",
        "```\n",
        "\n",
        "6  \n",
        "```\n",
        "base_country_wb_income\n",
        "High Income            2415\n",
        "Low Income              185\n",
        "Lower Middle Income     653\n",
        "Upper Middle Income     895\n",
        "Name: target_country_name, dtype: int64\n",
        "```\n",
        "\n",
        "7  \n",
        "```\n",
        "net_per_10K_2015\tnet_per_10K_2016\tnet_per_10K_2017\tnet_per_10K_2018\tnet_per_10K_2019\n",
        "base_country_wb_income\n",
        "High Income\t0.505482\t0.391379\t0.314178\t0.379201\t0.401470\n",
        "Low Income\t1.876432\t0.798270\t-0.684865\t-0.677784\t-0.681459\n",
        "Lower Middle Income\t0.591654\t-0.029893\t-0.519433\t-0.527136\t-0.476616\n",
        "Upper Middle Income\t-0.043419\t-0.502916\t-0.699240\t-0.686626\t-0.700101\n",
        "```\n",
        "\n",
        "\n",
        "\n",
        "\n"
      ]
    },
    {
      "cell_type": "code",
      "metadata": {
        "id": "yk8cfjUvIj5x",
        "outputId": "80840c3b-235c-4f72-b1fe-f22c6df33fc3",
        "colab": {
          "base_uri": "https://localhost:8080/"
        }
      },
      "source": [
        "import pandas as pd\n",
        "df = pd.read_excel( 'https://github.com/futureCodersSE/working-with-data/blob/main/Data%20sets/public_use-talent-migration.xlsx?raw=true', sheet_name=\"Country Migration\")\n",
        "print(df.describe())\n",
        "print()\n",
        "\n",
        "print(df.info())\n",
        "print()\n",
        "\n",
        "netmig = df[['net_per_10K_2015','net_per_10K_2016','net_per_10K_2017','net_per_10K_2018','net_per_10K_2019']]\n",
        "print (netmig.mean())\n",
        "print()\n",
        "\n",
        "D = df.groupby(['base_country_wb_region'])['net_per_10K_2019'].mean()\n",
        "E = df.groupby(['base_country_wb_region'])['net_per_10K_2019'].max()\n",
        "F = df.groupby(['base_country_wb_region'])['net_per_10K_2019'].min()\n",
        "inf = pd.merge(D, E, how=\"left\", on=\"base_country_wb_region\")\n",
        "inf1 = pd.merge(inf, F, how=\"left\", on=\"base_country_wb_region\")\n",
        "inf2 = inf1.rename(columns={'net_per_10K_2019_x':'np10K_2019 Mean','net_per_10K_2019_y':'np10K_2019 Max','net_per_10K_2019':'np10K_2019 Min'})\n",
        "print (inf2)\n",
        "print()\n",
        "\n",
        "X = df.groupby(['base_country_wb_income'])['net_per_10K_2015'].median()\n",
        "Y = df.groupby(['base_country_wb_income'])['net_per_10K_2019'].median()\n",
        "mnm = pd.merge(X, Y, how=\"left\", on=\"base_country_wb_income\")\n",
        "mnm1 = mnm.rename(columns={'net_per_10K_2015':'np10K_2015 Median','net_per_10K_2019':'np10K_2019 Median'})\n",
        "print (mnm1)\n",
        "print()\n",
        "\n",
        "A = df.groupby('base_country_wb_income')['target_country_name'].count()\n",
        "print(A)\n",
        "print()\n",
        "\n",
        "W = df.groupby('base_country_wb_income')[['net_per_10K_2015','net_per_10K_2016','net_per_10K_2017','net_per_10K_2018','net_per_10K_2019']].mean()\n",
        "print(W)\n",
        "print()\n"
      ],
      "execution_count": null,
      "outputs": [
        {
          "output_type": "stream",
          "name": "stdout",
          "text": [
            "          base_lat    base_long   target_lat  target_long  net_per_10K_2015  \\\n",
            "count  4148.000000  4148.000000  4148.000000  4148.000000       4148.000000   \n",
            "mean     28.418022    21.698305    28.418022    21.698305          0.461757   \n",
            "std      25.086012    61.937381    25.086012    61.937381          5.006530   \n",
            "min     -40.900557  -106.346771   -40.900557  -106.346771        -37.010000   \n",
            "25%      14.058324    -3.435973    14.058324    -3.435973         -0.150000   \n",
            "50%      35.861660    19.145136    35.861660    19.145136          0.000000   \n",
            "75%      47.516231    53.688046    47.516231    53.688046          0.240000   \n",
            "max      64.963051   179.414413    64.963051   179.414413        150.680000   \n",
            "\n",
            "       net_per_10K_2016  net_per_10K_2017  net_per_10K_2018  net_per_10K_2019  \n",
            "count       4148.000000       4148.000000       4148.000000       4148.000000  \n",
            "mean           0.150248         -0.080272         -0.040591         -0.022743  \n",
            "std            4.201118          3.203092          3.593876          3.633247  \n",
            "min          -40.890000        -43.660000        -56.220000        -50.330000  \n",
            "25%           -0.190000         -0.210000         -0.210000         -0.210000  \n",
            "50%            0.000000          0.000000          0.000000          0.000000  \n",
            "75%            0.220000          0.160000          0.170000          0.180000  \n",
            "max          124.480000         87.000000         91.410000         87.710000  \n",
            "\n",
            "<class 'pandas.core.frame.DataFrame'>\n",
            "RangeIndex: 4148 entries, 0 to 4147\n",
            "Data columns (total 17 columns):\n",
            " #   Column                    Non-Null Count  Dtype  \n",
            "---  ------                    --------------  -----  \n",
            " 0   base_country_code         4148 non-null   object \n",
            " 1   base_country_name         4148 non-null   object \n",
            " 2   base_lat                  4148 non-null   float64\n",
            " 3   base_long                 4148 non-null   float64\n",
            " 4   base_country_wb_income    4148 non-null   object \n",
            " 5   base_country_wb_region    4148 non-null   object \n",
            " 6   target_country_code       4148 non-null   object \n",
            " 7   target_country_name       4148 non-null   object \n",
            " 8   target_lat                4148 non-null   float64\n",
            " 9   target_long               4148 non-null   float64\n",
            " 10  target_country_wb_income  4148 non-null   object \n",
            " 11  target_country_wb_region  4148 non-null   object \n",
            " 12  net_per_10K_2015          4148 non-null   float64\n",
            " 13  net_per_10K_2016          4148 non-null   float64\n",
            " 14  net_per_10K_2017          4148 non-null   float64\n",
            " 15  net_per_10K_2018          4148 non-null   float64\n",
            " 16  net_per_10K_2019          4148 non-null   float64\n",
            "dtypes: float64(9), object(8)\n",
            "memory usage: 551.0+ KB\n",
            "None\n",
            "\n",
            "net_per_10K_2015    0.461757\n",
            "net_per_10K_2016    0.150248\n",
            "net_per_10K_2017   -0.080272\n",
            "net_per_10K_2018   -0.040591\n",
            "net_per_10K_2019   -0.022743\n",
            "dtype: float64\n",
            "\n",
            "                            np10K_2019 Mean  np10K_2019 Max  np10K_2019 Min\n",
            "base_country_wb_region                                                     \n",
            "East Asia & Pacific                0.198827           21.57           -9.88\n",
            "Europe & Central Asia              0.208974           87.71          -21.34\n",
            "Latin America & Caribbean         -0.904602           21.15          -31.75\n",
            "Middle East & North Africa        -0.107655           55.60          -50.33\n",
            "North America                      0.239246           23.20           -0.29\n",
            "South Asia                        -0.514577           13.72          -24.89\n",
            "Sub-Saharan Africa                -0.279729           37.11          -21.54\n",
            "\n",
            "                        np10K_2015 Median  np10K_2019 Median\n",
            "base_country_wb_income                                      \n",
            "High Income                          0.02               0.04\n",
            "Low Income                           0.42              -0.05\n",
            "Lower Middle Income                 -0.02              -0.07\n",
            "Upper Middle Income                 -0.03              -0.08\n",
            "\n",
            "base_country_wb_income\n",
            "High Income            2415\n",
            "Low Income              185\n",
            "Lower Middle Income     653\n",
            "Upper Middle Income     895\n",
            "Name: target_country_name, dtype: int64\n",
            "\n",
            "                        net_per_10K_2015  net_per_10K_2016  net_per_10K_2017  \\\n",
            "base_country_wb_income                                                         \n",
            "High Income                     0.505482          0.391379          0.314178   \n",
            "Low Income                      1.876432          0.798270         -0.684865   \n",
            "Lower Middle Income             0.591654         -0.029893         -0.519433   \n",
            "Upper Middle Income            -0.043419         -0.502916         -0.699240   \n",
            "\n",
            "                        net_per_10K_2018  net_per_10K_2019  \n",
            "base_country_wb_income                                      \n",
            "High Income                     0.379201          0.401470  \n",
            "Low Income                     -0.677784         -0.681459  \n",
            "Lower Middle Income            -0.527136         -0.476616  \n",
            "Upper Middle Income            -0.686626         -0.700101  \n",
            "\n"
          ]
        }
      ]
    },
    {
      "cell_type": "markdown",
      "metadata": {
        "id": "UqBCMK6dIkS-"
      },
      "source": [
        "### Exercise 10 - calculating range over a grouped series\n",
        "\n",
        "Open the dataset at this url: https://github.com/futureCodersSE/working-with-data/blob/main/Data%20sets/public_use-talent-migration.xlsx?raw=true Open the sheet named *Skill Migration*\n",
        "\n",
        "1.  Display the max for each skill group category of net migration for the year 2017\n",
        "2.  Assign the max for each skill group category of net migration for the year 2017 to a variable called **max_skill_migration** and print `max_skill_migration`\n",
        "3.  Create a second variable called **min_skill_migration** and assign to it the min for each skill group category of net migration for the year 2017, print `min_skill_migration`\n",
        "\n",
        "4.  You now have two series `max_skill_migration` and `min_skill_migration` each of which is a numpy array.  You can perfom calculations on these two series in the same way as you would individual data items.\n",
        "\n",
        "So, you can calculate the range for each skill category by subtracting the `min_skill_migration` from `max_skill_migration` to get a new series **skill_migration_range**\n",
        "\n",
        "skill_migration_range = max_skill_migration - min_skill_migration\n",
        "\n",
        "Try it out.\n",
        "\n",
        "5.  Now calculate the range for the year 2019\n",
        "6.  Now calculate the range for countries grouped by base country income level for the year 2015\n",
        "\n",
        "Test output:  \n",
        "1 and 2  \n",
        "```\n",
        "skill_group_category\n",
        "Business Skills                1048.20\n",
        "Disruptive Tech Skills         1478.56\n",
        "Soft Skills                    1572.35\n",
        "Specialized Industry Skills    1906.14\n",
        "Tech Skills                    1336.78\n",
        "Name: net_per_10K_2017, dtype: float64\n",
        "```\n",
        "\n",
        "3    \n",
        "```\n",
        "skill_group_category\n",
        "Business Skills               -3471.35\n",
        "Disruptive Tech Skills        -2646.19\n",
        "Soft Skills                   -2542.23\n",
        "Specialized Industry Skills   -6604.67\n",
        "Tech Skills                   -6060.98\n",
        "Name: net_per_10K_2017, dtype: float64\n",
        "```\n",
        "\n",
        "4  \n",
        "```\n",
        "skill_group_category\n",
        "Business Skills                4519.55\n",
        "Disruptive Tech Skills         4124.75\n",
        "Soft Skills                    4114.58\n",
        "Specialized Industry Skills    8510.81\n",
        "Tech Skills                    7397.76\n",
        "Name: net_per_10K_2017, dtype: float64\n",
        "```\n",
        "\n",
        "5  \n",
        "```\n",
        "skill_group_category\n",
        "Business Skills                4543.96\n",
        "Disruptive Tech Skills         3651.81\n",
        "Soft Skills                    5528.47\n",
        "Specialized Industry Skills    4036.44\n",
        "Tech Skills                    3424.45\n",
        "Name: net_per_10K_2019, dtype: float64\n",
        "```\n",
        "\n",
        "6  \n",
        "```\n",
        "wb_income\n",
        "High income            4246.50\n",
        "Low income             4556.42\n",
        "Lower middle income    2148.36\n",
        "Upper middle income    4045.43\n",
        "Name: net_per_10K_2015, dtype: float64\n",
        "```\n",
        "\n",
        "\n",
        "\n"
      ]
    },
    {
      "cell_type": "code",
      "metadata": {
        "id": "1_2brpLnKIBt",
        "outputId": "9b7a335a-62a2-452a-a7ea-96b63622992b",
        "colab": {
          "base_uri": "https://localhost:8080/"
        }
      },
      "source": [
        "import pandas as pd\n",
        "df = pd.read_excel( 'https://github.com/futureCodersSE/working-with-data/blob/main/Data%20sets/public_use-talent-migration.xlsx?raw=true', sheet_name=\"Skill Migration\")\n",
        "df.head(10)\n",
        "\n",
        "print(df.groupby('skill_group_category')['net_per_10K_2017'].max())\n",
        "print()\n",
        "\n",
        "max_skill_migration = df.groupby('skill_group_category')['net_per_10K_2017'].max()\n",
        "print(max_skill_migration)\n",
        "print()\n",
        "\n",
        "min_skill_migration = df.groupby('skill_group_category')['net_per_10K_2017'].min()\n",
        "print(min_skill_migration)\n",
        "print()\n",
        "\n",
        "skill_migration_range = max_skill_migration - min_skill_migration\n",
        "print (skill_migration_range)\n",
        "print()\n",
        "\n",
        "msmax = df.groupby('skill_group_category')['net_per_10K_2019'].max()\n",
        "msmin = df.groupby('skill_group_category')['net_per_10K_2019'].min()\n",
        "skill_migration_range2019 = msmax - msmin\n",
        "print (skill_migration_range2019)\n",
        "print()\n",
        "\n",
        "#df.head(1)\n",
        "\n",
        "msmax1 = df.groupby('wb_income')['net_per_10K_2015'].max()\n",
        "msmin1 = df.groupby('wb_income')['net_per_10K_2015'].min()\n",
        "incomelevel_range2015 = msmax1 - msmin1\n",
        "print (incomelevel_range2015)\n",
        "print()\n",
        "\n"
      ],
      "execution_count": null,
      "outputs": [
        {
          "output_type": "stream",
          "name": "stdout",
          "text": [
            "skill_group_category\n",
            "Business Skills                1048.20\n",
            "Disruptive Tech Skills         1478.56\n",
            "Soft Skills                    1572.35\n",
            "Specialized Industry Skills    1906.14\n",
            "Tech Skills                    1336.78\n",
            "Name: net_per_10K_2017, dtype: float64\n",
            "\n",
            "skill_group_category\n",
            "Business Skills                1048.20\n",
            "Disruptive Tech Skills         1478.56\n",
            "Soft Skills                    1572.35\n",
            "Specialized Industry Skills    1906.14\n",
            "Tech Skills                    1336.78\n",
            "Name: net_per_10K_2017, dtype: float64\n",
            "\n",
            "skill_group_category\n",
            "Business Skills               -3471.35\n",
            "Disruptive Tech Skills        -2646.19\n",
            "Soft Skills                   -2542.23\n",
            "Specialized Industry Skills   -6604.67\n",
            "Tech Skills                   -6060.98\n",
            "Name: net_per_10K_2017, dtype: float64\n",
            "\n",
            "skill_group_category\n",
            "Business Skills                4519.55\n",
            "Disruptive Tech Skills         4124.75\n",
            "Soft Skills                    4114.58\n",
            "Specialized Industry Skills    8510.81\n",
            "Tech Skills                    7397.76\n",
            "Name: net_per_10K_2017, dtype: float64\n",
            "\n",
            "skill_group_category\n",
            "Business Skills                4543.96\n",
            "Disruptive Tech Skills         3651.81\n",
            "Soft Skills                    5528.47\n",
            "Specialized Industry Skills    4036.44\n",
            "Tech Skills                    3424.45\n",
            "Name: net_per_10K_2019, dtype: float64\n",
            "\n",
            "wb_income\n",
            "High income            4246.50\n",
            "Low income             4556.42\n",
            "Lower middle income    2148.36\n",
            "Upper middle income    4045.43\n",
            "Name: net_per_10K_2015, dtype: float64\n",
            "\n"
          ]
        }
      ]
    }
  ]
}