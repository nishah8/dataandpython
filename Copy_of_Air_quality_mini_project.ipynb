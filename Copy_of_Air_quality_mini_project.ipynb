{
  "nbformat": 4,
  "nbformat_minor": 0,
  "metadata": {
    "colab": {
      "provenance": [],
      "include_colab_link": true
    },
    "kernelspec": {
      "name": "python3",
      "display_name": "Python 3"
    },
    "language_info": {
      "name": "python"
    }
  },
  "cells": [
    {
      "cell_type": "markdown",
      "metadata": {
        "id": "view-in-github",
        "colab_type": "text"
      },
      "source": [
        "<a href=\"https://colab.research.google.com/github/nishah8/dataandpython/blob/main/Copy_of_Air_quality_mini_project.ipynb\" target=\"_parent\"><img src=\"https://colab.research.google.com/assets/colab-badge.svg\" alt=\"Open In Colab\"/></a>"
      ]
    },
    {
      "cell_type": "markdown",
      "source": [
        "# Clean and wrangle air quality data\n",
        "\n",
        "The following data file contains data collected at a roadside monitoring station.  You can see the data in a spreadsheet here: https://docs.google.com/spreadsheets/d/1XpAvrpuyMsKDO76EZ3kxuddBOu7cZX1Od4uEts14zco/edit?usp=sharing\n",
        "\n",
        "The data contains:\n",
        "* a heading line (Chatham Roadside) which needs to be skipped\n",
        "* dates which are sometimes left- and sometimes right-justified indicating that they are not formatted as dates, rather they are text (so need to be converted to dates)\n",
        "* times which are not all in the same format\n",
        "* Nitrogen Dioxide levels which are, again, text and sometimes contain nodata\n",
        "* Status which is always the same\n",
        "\n",
        "\n",
        "\n"
      ],
      "metadata": {
        "id": "8qnlsapq24Df"
      }
    },
    {
      "cell_type": "markdown",
      "source": [
        "### Project - clean, sort and wrangle the data\n",
        "\n",
        "Read the dataset into a dataframe, skipping the first row   \n",
        "Convert dates to date format  \n",
        "Remove rows with nodata in the Nitrogen dioxide column  \n",
        "Convert the Nitrogen dioxide levels values to float type  \n",
        "Sort by Nitrogen dioxide level  \n",
        "Create a new column for 'Weekdays' (use df['Date'].dt.weekday)  \n",
        "Rename the column Nitrogen dioxide level to NO2 Level (V ug/m2)  \n",
        "Remove the Status column  \n",
        "\n",
        "The dataset can be viewed here:  https://drive.google.com/file/d/1aYmBf9il2dWA-EROvbYRCZ1rU2t7JwvJ/view?usp=sharing  and the data accessed here: https://drive.google.com/uc?id=1SOe9b4VJ1FCtDVgZ2T8d00-jTw2Kux1i  This is a .csv file  \n",
        "\n",
        "**NOTE:** Some useful references are included at the bottom of this spreadsheet.\n",
        "\n",
        "Use the code cell below to work your code."
      ],
      "metadata": {
        "id": "SSvLiFnp4LjG"
      }
    },
    {
      "cell_type": "code",
      "source": [
        "from datetime import datetime, timedelta\n",
        "import pandas as pd\n",
        "import numpy as np\n",
        "\n",
        "air_data=pd.read_csv(\"https://drive.google.com/uc?id=1SOe9b4VJ1FCtDVgZ2T8d00-jTw2Kux1i\",skiprows=1)\n",
        "air_data.info()\n",
        "print()\n",
        "\n",
        "def cleaningdata(data):\n",
        "  cleaned_data=data[data['Nitrogen dioxide'] != 'nodata']\n",
        "  sorted_cleaned_data=cleaned_data.sort_values(by=[\"Nitrogen dioxide\"])\n",
        "  sorted_cleaned_data['Nitrogen dioxide'] =pd.to_numeric(sorted_cleaned_data['Nitrogen dioxide'], errors='coerce')\n",
        "  sorted_cleaned_data['Date']= pd.to_datetime(sorted_cleaned_data['Date'], format='%d/%m/%Y')\n",
        "  sorted_cleaned_data['Weekdays']=sorted_cleaned_data['Date'].dt.weekday\n",
        "  sorted_cleaned_data.rename(columns={\"Nitrogen dioxide\": \"NO2 Level (V ug/m2)\"},inplace=True)\n",
        "  sorted_cleaned_data.drop(\"Status\",axis=1,inplace=True)\n",
        "  sorted_cleaned_data = sorted_cleaned_data.reset_index(drop=True)\n",
        "  return sorted_cleaned_data\n",
        "\n",
        "data1 = cleaningdata(air_data)\n",
        "print(data1)\n",
        "\n",
        "\n",
        "\n",
        "\n"
      ],
      "metadata": {
        "id": "txM4TIRUHhsJ",
        "colab": {
          "base_uri": "https://localhost:8080/"
        },
        "outputId": "e0159466-027f-4a3a-a337-8cbe5884ea06"
      },
      "execution_count": 7,
      "outputs": [
        {
          "output_type": "stream",
          "name": "stdout",
          "text": [
            "<class 'pandas.core.frame.DataFrame'>\n",
            "RangeIndex: 8784 entries, 0 to 8783\n",
            "Data columns (total 4 columns):\n",
            " #   Column            Non-Null Count  Dtype \n",
            "---  ------            --------------  ----- \n",
            " 0   Date              8784 non-null   object\n",
            " 1   Time              8784 non-null   object\n",
            " 2   Nitrogen dioxide  8784 non-null   object\n",
            " 3   Status            8784 non-null   object\n",
            "dtypes: object(4)\n",
            "memory usage: 274.6+ KB\n",
            "\n",
            "           Date   Time  NO2 Level (V ug/m2)  Weekdays\n",
            "0    2020-12-27   5:00              0.42410         6\n",
            "1    2020-08-26   1:00              0.58689         2\n",
            "2    2020-07-06   2:00              0.58930         0\n",
            "3    2020-08-26   3:00              0.59123         2\n",
            "4    2020-12-27   6:00              0.65300         6\n",
            "...         ...    ...                  ...       ...\n",
            "8627 2020-01-29   3:00              9.99194         2\n",
            "8628 2020-04-17   3:00              9.99557         4\n",
            "8629 2020-12-10  12:00              9.99864         3\n",
            "8630 2020-09-27  20:00              9.99883         6\n",
            "8631 2020-09-15  18:00             92.13063         1\n",
            "\n",
            "[8632 rows x 4 columns]\n"
          ]
        }
      ]
    },
    {
      "cell_type": "markdown",
      "source": [
        "### Expand the dataset and show summary statistics for larger dataset\n",
        "---\n",
        "\n",
        "There is a second data set here covering the year 2021:  https://drive.google.com/uc?id=1aYmBf9il2dWA-EROvbYRCZ1rU2t7JwvJ  \n",
        "\n",
        "Concatenate the two datasets to expand it to 2020 and 2021.  \n",
        "\n",
        "Before you can concatenate the datasets you will need to clean and wrangle the second dataset in the same way as the first.  Use the code cell below.  Give the second dataset a different name.\n",
        "\n",
        "After the datasets have been concatenated, group the data by Weekdays and show summary statistics by day of the week."
      ],
      "metadata": {
        "id": "jnzAnbsmHk4B"
      }
    },
    {
      "cell_type": "code",
      "source": [
        "latest_data=pd.read_csv(\"https://drive.google.com/uc?id=1aYmBf9il2dWA-EROvbYRCZ1rU2t7JwvJ\",skiprows=1)\n",
        "latest_data.info()\n",
        "\n",
        "data2 = cleaningdata(latest_data)\n",
        "print(data2)\n",
        "print()\n",
        "\n",
        "finaldata = pd.concat([data1, data2])\n",
        "print(finaldata)\n",
        "print()\n",
        "\n",
        "weekday_summary = finaldata.groupby('Weekdays')[\"NO2 Level (V ug/m2)\"].describe()\n",
        "print(weekday_summary)"
      ],
      "metadata": {
        "id": "Gz4u6trsIQJ6",
        "colab": {
          "base_uri": "https://localhost:8080/"
        },
        "outputId": "e1336a96-40cc-4a03-a93c-261de522f3d9"
      },
      "execution_count": 8,
      "outputs": [
        {
          "output_type": "stream",
          "name": "stdout",
          "text": [
            "<class 'pandas.core.frame.DataFrame'>\n",
            "RangeIndex: 8760 entries, 0 to 8759\n",
            "Data columns (total 4 columns):\n",
            " #   Column            Non-Null Count  Dtype \n",
            "---  ------            --------------  ----- \n",
            " 0   Date              8760 non-null   object\n",
            " 1   Time              8760 non-null   object\n",
            " 2   Nitrogen dioxide  8760 non-null   object\n",
            " 3   Status            8760 non-null   object\n",
            "dtypes: object(4)\n",
            "memory usage: 273.9+ KB\n",
            "           Date   Time  NO2 Level (V ug/m2)  Weekdays\n",
            "0    2021-10-24  03:00             -0.09610         6\n",
            "1    2021-11-30  24:00             -0.10519         1\n",
            "2    2021-12-30  04:00             -0.13101         3\n",
            "3    2021-10-20  03:00             -0.26249         2\n",
            "4    2021-10-27  03:00             -0.28544         2\n",
            "...         ...    ...                  ...       ...\n",
            "8675 2021-05-07  03:00              9.98456         4\n",
            "8676 2021-01-28  23:00              9.98543         3\n",
            "8677 2021-10-16  01:00              9.98708         5\n",
            "8678 2021-05-04  24:00              9.99376         1\n",
            "8679 2021-12-07  01:00              9.99664         1\n",
            "\n",
            "[8680 rows x 4 columns]\n",
            "\n",
            "           Date   Time  NO2 Level (V ug/m2)  Weekdays\n",
            "0    2020-12-27   5:00              0.42410         6\n",
            "1    2020-08-26   1:00              0.58689         2\n",
            "2    2020-07-06   2:00              0.58930         0\n",
            "3    2020-08-26   3:00              0.59123         2\n",
            "4    2020-12-27   6:00              0.65300         6\n",
            "...         ...    ...                  ...       ...\n",
            "8675 2021-05-07  03:00              9.98456         4\n",
            "8676 2021-01-28  23:00              9.98543         3\n",
            "8677 2021-10-16  01:00              9.98708         5\n",
            "8678 2021-05-04  24:00              9.99376         1\n",
            "8679 2021-12-07  01:00              9.99664         1\n",
            "\n",
            "[17312 rows x 4 columns]\n",
            "\n",
            "           count       mean        std      min        25%       50%  \\\n",
            "Weekdays                                                               \n",
            "0         2452.0  19.019897  13.566948  0.58930   8.944637  15.91839   \n",
            "1         2434.0  19.862832  13.623132 -0.10519   9.677307  16.66992   \n",
            "2         2485.0  21.569402  13.843067 -0.77743  10.894910  18.47115   \n",
            "3         2483.0  19.822405  12.873919 -0.13101  10.190015  16.82392   \n",
            "4         2500.0  20.776520  13.236096  0.03299  10.690697  18.00050   \n",
            "5         2494.0  15.905960  10.595521  0.75690   8.021902  13.60438   \n",
            "6         2464.0  13.160879   8.851133 -0.41740   6.782293  11.11951   \n",
            "\n",
            "                75%        max  \n",
            "Weekdays                        \n",
            "0         26.016740  113.06189  \n",
            "1         27.045835   92.13063  \n",
            "2         30.186290   84.55297  \n",
            "3         26.306000   72.00084  \n",
            "4         28.146380   76.72297  \n",
            "5         20.842495   74.93681  \n",
            "6         16.998405   58.31275  \n"
          ]
        }
      ]
    },
    {
      "cell_type": "markdown",
      "source": [
        "### Helpful references\n",
        "---\n",
        "Skipping rows when reading datasets:  \n",
        "https://www.geeksforgeeks.org/how-to-skip-rows-while-reading-csv-file-using-pandas/  \n",
        "\n",
        "Converting strings to dates:  \n",
        "https://www.geeksforgeeks.org/convert-the-column-type-from-string-to-datetime-format-in-pandas-dataframe/\n",
        "\n",
        "Dropping rows where data has a given value:  \n",
        "https://www.datasciencemadesimple.com/drop-delete-rows-conditions-python-pandas/  \n",
        "(see section Drop a row or observation by condition)\n",
        "\n",
        "Convert a column of strings to a column of floats:\n",
        "https://datatofish.com/convert-string-to-float-dataframe/  \n",
        "\n",
        "Create a new column from data converted in an existing column:  \n",
        "https://www.geeksforgeeks.org/create-a-new-column-in-pandas-dataframe-based-on-the-existing-columns/  \n",
        "\n",
        "Rename a column:  \n",
        "https://pandas.pydata.org/docs/reference/api/pandas.DataFrame.rename.html  \n",
        "\n",
        "Remove a column by name:  \n",
        "https://www.kite.com/python/answers/how-to-delete-columns-from-a-pandas-%60dataframe%60-by-column-name-in-python#:~:text=Use%20the%20del%20keyword%20to,the%20name%20column_name%20from%20DataFrame%20.\n"
      ],
      "metadata": {
        "id": "hkj-Ofus_D6_"
      }
    }
  ]
}