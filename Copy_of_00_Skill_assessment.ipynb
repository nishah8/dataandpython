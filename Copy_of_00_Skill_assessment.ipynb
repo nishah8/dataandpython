{
  "nbformat": 4,
  "nbformat_minor": 0,
  "metadata": {
    "colab": {
      "provenance": [],
      "include_colab_link": true
    },
    "kernelspec": {
      "name": "python3",
      "display_name": "Python 3"
    },
    "language_info": {
      "name": "python"
    }
  },
  "cells": [
    {
      "cell_type": "markdown",
      "metadata": {
        "id": "view-in-github",
        "colab_type": "text"
      },
      "source": [
        "<a href=\"https://colab.research.google.com/github/nishah8/dataandpython/blob/main/Copy_of_00_Skill_assessment.ipynb\" target=\"_parent\"><img src=\"https://colab.research.google.com/assets/colab-badge.svg\" alt=\"Open In Colab\"/></a>"
      ]
    },
    {
      "cell_type": "markdown",
      "metadata": {
        "id": "-vVXrDTXbDzp"
      },
      "source": [
        "### Exercise 1 - printing\n",
        "---\n",
        "Print \"hello world\"\n",
        "\n",
        "**Expected Output**  \n",
        "hello world"
      ]
    },
    {
      "cell_type": "code",
      "metadata": {
        "id": "Z_Jc0SncbEkM",
        "outputId": "2d72e993-1531-45cd-d5f5-073fd0a518d9",
        "colab": {
          "base_uri": "https://localhost:8080/"
        }
      },
      "source": [
        "print('Hello World')\n"
      ],
      "execution_count": null,
      "outputs": [
        {
          "output_type": "stream",
          "name": "stdout",
          "text": [
            "Hello World\n"
          ]
        }
      ]
    },
    {
      "cell_type": "markdown",
      "metadata": {
        "id": "n-u42LuZbPc2"
      },
      "source": [
        "### Exercise 2 - using input\n",
        "---\n",
        "Create an input that asks for the user's name and stores it in a variable called name and `print` it\n",
        "\n",
        "**Test Input**  \n",
        "Marianne\n",
        "\n",
        "**Expected Output**  \n",
        "Marianne"
      ]
    },
    {
      "cell_type": "code",
      "metadata": {
        "id": "02KvhKPdbZW-",
        "outputId": "fba3767e-b038-424a-d82a-105c21376ff3",
        "colab": {
          "base_uri": "https://localhost:8080/"
        }
      },
      "source": [
        "name = input('what is your name:')\n",
        "print (name)"
      ],
      "execution_count": null,
      "outputs": [
        {
          "output_type": "stream",
          "name": "stdout",
          "text": [
            "what is your name:Marianne\n",
            "Marianne\n"
          ]
        }
      ]
    },
    {
      "cell_type": "markdown",
      "metadata": {
        "id": "oXpvEknHbZvz"
      },
      "source": [
        "### Exercise 3 - operators and datatypes\n",
        "---\n",
        "\n",
        "Create 2 variables called **num1** and **num2** which each store an input function which asks for a whole number and stores it as an integer\n",
        "\n",
        "Create a third variable called **num3** which sums **num1** and **num2** together\n",
        "\n",
        "**Test Input**  \n",
        "11  \n",
        "22  \n",
        "\n",
        "**Expected Output**  \n",
        "33\n"
      ]
    },
    {
      "cell_type": "code",
      "metadata": {
        "id": "WVnfbWjdcJPD",
        "outputId": "da6a1eba-4be2-41e4-c668-04aaf336d1ef",
        "colab": {
          "base_uri": "https://localhost:8080/"
        }
      },
      "source": [
        "num1 = int(input('enter a number: '))\n",
        "num2 = int(input('enter a number: '))\n",
        "num3 = num1 + num2\n",
        "print (num3)"
      ],
      "execution_count": null,
      "outputs": [
        {
          "output_type": "stream",
          "name": "stdout",
          "text": [
            "enter a number: 11\n",
            "enter a number: 22\n",
            "33\n"
          ]
        }
      ]
    },
    {
      "cell_type": "markdown",
      "metadata": {
        "id": "EDPftM6dcJzK"
      },
      "source": [
        "### Exercise 4 - using if/else\n",
        "---\n",
        "\n",
        "Use `if` to sum two inputed integers. However, if the sum is between 15 to 20 it will print 20, else return the correct sum\n",
        "\n",
        "**Test Input**  \n",
        "3  \n",
        "15  \n",
        "\n",
        "**Expected Output**  \n",
        "20"
      ]
    },
    {
      "cell_type": "code",
      "metadata": {
        "id": "JPXearXfdPZS",
        "outputId": "29adba87-60f7-440c-953c-4b2e9661ad41",
        "colab": {
          "base_uri": "https://localhost:8080/"
        }
      },
      "source": [
        "num1 = int(input('enter a number: '))\n",
        "num2 = int(input('enter a number: '))\n",
        "sum = num1 + num2\n",
        "if 15<= sum <=20:\n",
        "  print(20)\n",
        "else:\n",
        "  print (sum)"
      ],
      "execution_count": null,
      "outputs": [
        {
          "output_type": "stream",
          "name": "stdout",
          "text": [
            "enter a number: 3\n",
            "enter a number: 15\n",
            "20\n"
          ]
        }
      ]
    },
    {
      "cell_type": "markdown",
      "metadata": {
        "id": "c7hKrWgIdPrr"
      },
      "source": [
        "### Exercise 5 - using for loops\n",
        "---\n",
        "`Print` each letter of the string \"supercalifragilistic\" using a `for` loop\n",
        "\n",
        "**Expected Output**   \n",
        "s  \n",
        "u  \n",
        "p  \n",
        "e  \n",
        "r  \n",
        "c  \n",
        "a  \n",
        "l  \n",
        "i  \n",
        "f  \n",
        "r  \n",
        "a  \n",
        "g  \n",
        "i  \n",
        "l  \n",
        "i  \n",
        "s  \n",
        "t  \n",
        "i  \n",
        "c  "
      ]
    },
    {
      "cell_type": "code",
      "metadata": {
        "id": "bxE5C2jYdg2w",
        "outputId": "52486e27-5ecd-4f4f-8f04-6c9675ee09af",
        "colab": {
          "base_uri": "https://localhost:8080/"
        }
      },
      "source": [
        "word = 'supercalifragilistic'\n",
        "for x in word:\n",
        "  print (x)"
      ],
      "execution_count": null,
      "outputs": [
        {
          "output_type": "stream",
          "name": "stdout",
          "text": [
            "s\n",
            "u\n",
            "p\n",
            "e\n",
            "r\n",
            "c\n",
            "a\n",
            "l\n",
            "i\n",
            "f\n",
            "r\n",
            "a\n",
            "g\n",
            "i\n",
            "l\n",
            "i\n",
            "s\n",
            "t\n",
            "i\n",
            "c\n"
          ]
        }
      ]
    },
    {
      "cell_type": "markdown",
      "metadata": {
        "id": "Bf_wev6UdhPH"
      },
      "source": [
        "### Exercise 6 - using while loops\n",
        "---\n",
        "Write a program that asks the user to enter a positive number.\n",
        "`if` the number entered is not positive (ie it is less than 0) the user will be shown an error message and asked to enter the number again. `if` a positive number is entered, the program should print \"Thankyou, goodbye\"\n",
        "\n",
        "**Test Input**   \n",
        "-1   \n",
        "4\n",
        "\n",
        "\n",
        "**Expected Output**  \n",
        "Error   \n",
        "Thankyou, goodbye"
      ]
    },
    {
      "cell_type": "code",
      "metadata": {
        "id": "muSpMY4vdtfD",
        "outputId": "528888b2-5fa2-4fc3-863f-973e8f6c73af",
        "colab": {
          "base_uri": "https://localhost:8080/"
        }
      },
      "source": [
        "num = -1\n",
        "while num < 0:\n",
        "  num = float(input('Enter a positive number:'))\n",
        "  if num<0:\n",
        "    print ('this is not a positive number')\n",
        "  else:\n",
        "    print('Thankyou, goodbye')\n",
        "\n",
        "\n"
      ],
      "execution_count": null,
      "outputs": [
        {
          "output_type": "stream",
          "name": "stdout",
          "text": [
            "Enter a positive number:-1\n",
            "this is not a positive number\n",
            "Enter a positive number:4\n",
            "Thankyou, goodbye\n"
          ]
        }
      ]
    },
    {
      "cell_type": "markdown",
      "metadata": {
        "id": "Q-drRJ2kdt4g"
      },
      "source": [
        "### Exercise 7 - lists\n",
        "---\n",
        "The `sorted()` function will sort a list.\n",
        "Create a list of 5 numbers and use the sorted function to sort them, storing the sorted list in a variabled called **sorted_list**\n",
        "\n",
        "**Test Input**  \n",
        "[1, 87, -1, 8, 21]\n",
        "\n",
        "**Expected Output**  \n",
        "[-1, 1, 8, 21, 87]"
      ]
    },
    {
      "cell_type": "code",
      "metadata": {
        "id": "W4MxMJ1ieGqe",
        "outputId": "7897841a-f94d-4ec4-ea77-22b13ffda4db",
        "colab": {
          "base_uri": "https://localhost:8080/"
        }
      },
      "source": [
        "mylist = [1,87,-1,8,21]\n",
        "sorted_list = sorted(mylist)\n",
        "print (sorted_list)"
      ],
      "execution_count": null,
      "outputs": [
        {
          "output_type": "stream",
          "name": "stdout",
          "text": [
            "[-1, 1, 8, 21, 87]\n"
          ]
        }
      ]
    },
    {
      "cell_type": "markdown",
      "metadata": {
        "id": "ZL0wbkQPeG6j"
      },
      "source": [
        "### Exercise 8 - dictionaries\n",
        "---\n",
        "Add an empty dictionary for a person (name, age and postcode). Read a person's details using the `input()` function and store them in your dictionary.\n",
        "\n",
        "Make sure that the entered age is a number.\n",
        "\n",
        "Print the dictionary.  \n",
        "\n",
        "**Test Input**  \n",
        "Dave  \n",
        "24  \n",
        "SE11AB  \n",
        "\n",
        "**Expected Output**  \n",
        "{'name': 'Dave', 'age': 24, 'postcode': 'SE11AB'}"
      ]
    },
    {
      "cell_type": "code",
      "metadata": {
        "id": "jZc7zRAkeglf",
        "outputId": "f0034a8b-c8f3-471c-f93d-aec1ed33cfea",
        "colab": {
          "base_uri": "https://localhost:8080/"
        }
      },
      "source": [
        "name = input('whats your name?')\n",
        "age = int(input('whats your age?'))\n",
        "postcode = input ('enter your postcode in xxx xxx format:')\n",
        "\n",
        "aboutme = {'name':name, 'age':age,'postcode':postcode}\n",
        "print (aboutme)\n",
        "\n"
      ],
      "execution_count": null,
      "outputs": [
        {
          "output_type": "stream",
          "name": "stdout",
          "text": [
            "whats your name?Dave\n",
            "whats your age?24\n",
            "enter your postcode in xxx xxx format:SE1 1AB\n",
            "{'name': 'Dave', 'age': 24, 'postcode': 'SE1 1AB'}\n"
          ]
        }
      ]
    },
    {
      "cell_type": "markdown",
      "metadata": {
        "id": "lpT0N5HqehHK"
      },
      "source": [
        "### Exercise 9 - functions, lists and loops\n",
        "---\n",
        "Write a function to create and `print` a list where the values are square of numbers between 1 and 30 (both included).\n",
        "\n",
        "**Expected Output**  \n",
        "[0, 1, 4, 9, 16, 25, 36, 49, 64, 81, 100, 121, 144, 169, 196, 225, 256, 289, 324, 361, 400, 441, 484, 529, 576, 625, 676, 729, 784, 841, 900]\n"
      ]
    },
    {
      "cell_type": "code",
      "metadata": {
        "id": "_h6r0hAce7ro",
        "outputId": "d5691515-3136-4651-8c62-cd2263fb4559",
        "colab": {
          "base_uri": "https://localhost:8080/"
        }
      },
      "source": [
        "def squareslist():\n",
        "  x = 0\n",
        "  sqlist =[]\n",
        "  while x<=30:\n",
        "    sqlist.append(x**2)\n",
        "    x +=1\n",
        "\n",
        "  return sqlist\n",
        "\n",
        "print (squareslist())\n"
      ],
      "execution_count": null,
      "outputs": [
        {
          "output_type": "stream",
          "name": "stdout",
          "text": [
            "[0, 1, 4, 9, 16, 25, 36, 49, 64, 81, 100, 121, 144, 169, 196, 225, 256, 289, 324, 361, 400, 441, 484, 529, 576, 625, 676, 729, 784, 841, 900]\n"
          ]
        }
      ]
    },
    {
      "cell_type": "markdown",
      "metadata": {
        "id": "GPoXDPh2e8LB"
      },
      "source": [
        "### Exercise 10 - functions\n",
        "---\n",
        "Create a function called **show_mood** that takes in a current mood as a parameter of the function and `return` a sentence in the following format: \"Today, I am feeling {mood}\". However, `if` an empty string is passed, `return` \"Today, I am feeling neutral\".\n",
        "\n",
        "**Test input**  \n",
        "show_mood(\"happy\")    \n",
        "show_mood(\"sad\")  \n",
        "show_mood(\"\")   \n",
        "\n",
        "**Expected output**  \n",
        "\"Today, I am feeling happy\"  \n",
        "\"Today, I am feeling sad\"  \n",
        "\"Today, I am feeling neutral\"   \n",
        "\n"
      ]
    },
    {
      "cell_type": "code",
      "metadata": {
        "id": "SvF1CessfoqC",
        "outputId": "414a3e84-09dd-4041-f4a3-aea11ea80070",
        "colab": {
          "base_uri": "https://localhost:8080/"
        }
      },
      "source": [
        "\n",
        "mood = input ('whats the mood?')\n",
        "def show_mood(mood):\n",
        "\n",
        "  if mood == \"\" or mood == \" \":\n",
        "    print (\"Today i'm feeling neutral\")\n",
        "  else:\n",
        "    print (\"Today i'm feeling\", mood)\n",
        "\n",
        "show_mood(mood)\n",
        "\n",
        "\n"
      ],
      "execution_count": null,
      "outputs": [
        {
          "output_type": "stream",
          "name": "stdout",
          "text": [
            "whats the mood?happy\n",
            "Today i'm feeling happy\n"
          ]
        }
      ]
    },
    {
      "cell_type": "markdown",
      "metadata": {
        "id": "9U9rREgKumh1"
      },
      "source": [
        "### OPTIONAL Challenge\n",
        "---\n",
        "Create a function called **show_mood** that takes in a current mood as a parameter of the function and `return` a sentence in the following format: \"Today, I am feeling {mood}\". **However, if *no argument* is passed, it will assume that the mood is neutral**.\n",
        "\n",
        "**Test input**  \n",
        "show_mood(\"happy\")    \n",
        "show_mood(\"sad\")  \n",
        "show_mood()   \n",
        "\n",
        "**Expected output**  \n",
        "\"Today, I am feeling happy\"  \n",
        "\"Today, I am feeling sad\"  \n",
        "\"Today, I am feeling neutral\"   "
      ]
    },
    {
      "cell_type": "code",
      "metadata": {
        "id": "B2fYBD0Ouw2E",
        "outputId": "7cb01be1-0d86-4a24-a5d9-2edc4dd3d0dc",
        "colab": {
          "base_uri": "https://localhost:8080/"
        }
      },
      "source": [
        "\n",
        "def show_mood(mood= 'neutral'):\n",
        "\n",
        "  if mood == \"\" or mood == \" \":\n",
        "    print (\"Today i'm feeling neutral\")\n",
        "  else:\n",
        "    print (\"Today i'm feeling\", mood)\n",
        "\n",
        "\n",
        "show_mood('')\n"
      ],
      "execution_count": null,
      "outputs": [
        {
          "output_type": "stream",
          "name": "stdout",
          "text": [
            "Today i'm feeling neutral\n"
          ]
        }
      ]
    }
  ]
}