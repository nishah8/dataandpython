{
  "nbformat": 4,
  "nbformat_minor": 0,
  "metadata": {
    "colab": {
      "provenance": [],
      "include_colab_link": true
    },
    "kernelspec": {
      "name": "python3",
      "display_name": "Python 3"
    },
    "language_info": {
      "name": "python"
    }
  },
  "cells": [
    {
      "cell_type": "markdown",
      "metadata": {
        "id": "view-in-github",
        "colab_type": "text"
      },
      "source": [
        "<a href=\"https://colab.research.google.com/github/nishah8/dataandpython/blob/main/Copy_of_Data_Investigation_Project.ipynb\" target=\"_parent\"><img src=\"https://colab.research.google.com/assets/colab-badge.svg\" alt=\"Open In Colab\"/></a>"
      ]
    },
    {
      "cell_type": "markdown",
      "metadata": {
        "id": "hmwPnuX3KU5t"
      },
      "source": [
        "# Data investigation project\n",
        "---\n",
        "\n",
        "Use what you have learnt so far about reading data files and displaying rows, columns, unique values, etc, to investigate and produce some printed information from this data set: https://raw.githubusercontent.com/futureCodersSE/working-with-data/main/Data%20sets/housing_in_london_yearly_variables.csv"
      ]
    },
    {
      "cell_type": "code",
      "metadata": {
        "id": "Z1q5Ven3KUEL",
        "outputId": "934beb60-0108-4d77-f1bf-6c6dbe9f3219",
        "colab": {
          "base_uri": "https://localhost:8080/"
        }
      },
      "source": [
        "import pandas as pd\n",
        "url = \"https://raw.githubusercontent.com/nishah8/dataandpython/main/Data%20Sets/housing_in_london_yearly_variables.csv\"\n",
        "df = pd.read_csv(url)\n",
        "\n",
        "count = 0\n",
        "for i in df['area'].unique():\n",
        "  print (i)\n",
        "  count+=1\n",
        "print ()\n",
        "print ('There are',count,'unique areas in the infolist')\n",
        "print()\n",
        "\n",
        "for x in df['date'].unique():\n",
        "  print(x)\n",
        "\n",
        "print()\n",
        "\n",
        "df.head(1)\n",
        "\n",
        "f_d = df[['area','date','mean_salary', 'median_salary']]\n",
        "filtered_data = f_d.loc[f_d['area'] == 'harrow']\n",
        "print(filtered_data)\n",
        "\n",
        "\n",
        "\n",
        "\n",
        "\n",
        "\n",
        "\n",
        "\n"
      ],
      "execution_count": null,
      "outputs": [
        {
          "output_type": "stream",
          "name": "stdout",
          "text": [
            "city of london\n",
            "barking and dagenham\n",
            "barnet\n",
            "bexley\n",
            "brent\n",
            "bromley\n",
            "camden\n",
            "croydon\n",
            "ealing\n",
            "enfield\n",
            "greenwich\n",
            "hackney\n",
            "hammersmith and fulham\n",
            "haringey\n",
            "harrow\n",
            "havering\n",
            "hillingdon\n",
            "hounslow\n",
            "islington\n",
            "kensington and chelsea\n",
            "kingston upon thames\n",
            "lambeth\n",
            "lewisham\n",
            "merton\n",
            "newham\n",
            "redbridge\n",
            "richmond upon thames\n",
            "southwark\n",
            "sutton\n",
            "tower hamlets\n",
            "waltham forest\n",
            "wandsworth\n",
            "westminster\n",
            "north east\n",
            "north west\n",
            "yorkshire and the humber\n",
            "east midlands\n",
            "west midlands\n",
            "east\n",
            "london\n",
            "south east\n",
            "south west\n",
            "inner london\n",
            "outer london\n",
            "england\n",
            "united kingdom\n",
            "great britain\n",
            "england and wales\n",
            "northern ireland\n",
            "scotland\n",
            "wales\n",
            "\n",
            "There are 51 unique areas in the infolist\n",
            "\n",
            "1999-12-01\n",
            "2000-12-01\n",
            "2001-12-01\n",
            "2002-12-01\n",
            "2003-12-01\n",
            "2004-12-01\n",
            "2005-12-01\n",
            "2006-12-01\n",
            "2007-12-01\n",
            "2008-12-01\n",
            "2009-12-01\n",
            "2010-12-01\n",
            "2011-12-01\n",
            "2012-12-01\n",
            "2013-12-01\n",
            "2014-12-01\n",
            "2015-12-01\n",
            "2016-12-01\n",
            "2017-12-01\n",
            "2018-12-01\n",
            "2019-12-01\n",
            "\n",
            "        area        date mean_salary  median_salary\n",
            "14    harrow  1999-12-01       22824        20596.0\n",
            "65    harrow  2000-12-01       24973        22238.0\n",
            "116   harrow  2001-12-01       26650        22960.0\n",
            "167   harrow  2002-12-01       26303        23176.0\n",
            "218   harrow  2003-12-01       27980        22796.0\n",
            "269   harrow  2004-12-01       29745        24750.0\n",
            "320   harrow  2005-12-01       30339        26162.0\n",
            "371   harrow  2006-12-01       30342        25575.0\n",
            "422   harrow  2007-12-01       31063        26107.0\n",
            "473   harrow  2008-12-01       31746        27627.0\n",
            "524   harrow  2009-12-01       31352        27532.0\n",
            "575   harrow  2010-12-01       32746        27921.0\n",
            "626   harrow  2011-12-01       32342        27540.0\n",
            "677   harrow  2012-12-01       31817        26738.0\n",
            "728   harrow  2013-12-01       31504        25784.0\n",
            "779   harrow  2014-12-01       29957        26037.0\n",
            "830   harrow  2015-12-01       31404        26770.0\n",
            "881   harrow  2016-12-01       34743        30134.0\n",
            "932   harrow  2017-12-01       39293        31255.0\n",
            "983   harrow  2018-12-01       35325        30553.0\n",
            "1034  harrow  2019-12-01       37172        32809.0\n"
          ]
        }
      ]
    }
  ]
}